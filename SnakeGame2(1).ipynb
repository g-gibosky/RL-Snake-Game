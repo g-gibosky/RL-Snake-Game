{
  "nbformat": 4,
  "nbformat_minor": 0,
  "metadata": {
    "colab": {
      "provenance": []
    },
    "kernelspec": {
      "name": "python3",
      "display_name": "Python 3"
    },
    "language_info": {
      "name": "python"
    }
  },
  "cells": [
    {
      "cell_type": "code",
      "execution_count": 103,
      "metadata": {
        "id": "z7N7xr1iRn9y"
      },
      "outputs": [],
      "source": [
        "import pygame\n",
        "import random\n",
        "import cv2\n",
        "import numpy as np\n",
        "from google.colab.patches import cv2_imshow\n",
        "from google.colab import output\n",
        "import time\n",
        "import pickle\n",
        "import os, sys\n",
        "import seaborn as sns\n",
        "sns.set()\n",
        "import matplotlib.pyplot as plt"
      ]
    },
    {
      "cell_type": "code",
      "source": [
        "# set SDL to use the dummy NULL video driver,\n",
        "#   so it doesn't need a windowing system.\n",
        "os.environ[\"SDL_VIDEODRIVER\"] = \"dummy\""
      ],
      "metadata": {
        "id": "F2L2_Z4kSyRv"
      },
      "execution_count": 87,
      "outputs": []
    },
    {
      "cell_type": "code",
      "source": [
        "# Constants for the game grid\n",
        "GRID_SIZE = 40\n",
        "GRID_WIDTH = 10\n",
        "GRID_HEIGHT = 10\n",
        "\n",
        "# Define actions\n",
        "ACTIONS = [(0, -1), (0, 1), (-1, 0), (1, 0)]  # Up, Down, Left, Right\n",
        "\n",
        "# Colors\n",
        "WHITE = (255, 255, 255)\n",
        "GREEN = (0, 255, 0)\n",
        "RED = (255, 0, 0)\n",
        "BLUE = (0, 0, 255)  # Color for the snake's head\n"
      ],
      "metadata": {
        "id": "JUNCF-GASEZ5"
      },
      "execution_count": 88,
      "outputs": []
    },
    {
      "cell_type": "code",
      "source": [
        "class SnakeGame():\n",
        "    def __init__(self):\n",
        "        pygame.init()\n",
        "        self.screen = pygame.display.set_mode((GRID_WIDTH * GRID_SIZE, GRID_HEIGHT * GRID_SIZE))\n",
        "        pygame.display.set_caption(\"Snake Game - RL\")\n",
        "        self.delay_time = 0.000005\n",
        "        self.reset()\n",
        "\n",
        "    def get_state(self):\n",
        "      s = self.snake[0]\n",
        "      f = self.food\n",
        "\n",
        "      state_x = s[0] - f[0]\n",
        "      state_y = s[1] - f[1]\n",
        "\n",
        "      return (state_x, state_y)\n",
        "\n",
        "    def reset(self):\n",
        "        self.food = self.initialize_food()\n",
        "        self.snake = self.initialize_snake(food = self.food)\n",
        "\n",
        "    def initialize_food(self):\n",
        "        empty_cells = [(x, y) for x in range(GRID_WIDTH) for y in range(GRID_HEIGHT)]\n",
        "        return random.choice(empty_cells)\n",
        "\n",
        "    def initialize_snake(self, food):\n",
        "        empty_cells = [(x, y) for x in range(GRID_WIDTH) for y in range(GRID_HEIGHT)]\n",
        "        empty_cells.remove(food)\n",
        "        return [random.choice(empty_cells)]\n",
        "\n",
        "    def is_valid_move(self, action):\n",
        "        new_head = (self.snake[0][0] + action[0], self.snake[0][1] + action[1])\n",
        "        #print(\"new_head[0]\", new_head[0] < 0)\n",
        "        #print(\"new_head[0]\", new_head[0] >= GRID_WIDTH)\n",
        "        #print(\"new_head[1]\", new_head[1] < 0)\n",
        "        #print(\"new_head[1]\", new_head[1] >= GRID_HEIGHT)\n",
        "        #print(\"new_head in \", new_head in self.snake) # erro esta aqui\n",
        "        if (\n",
        "            new_head[0] < 0\n",
        "            or new_head[0] >= GRID_WIDTH\n",
        "            or new_head[1] < 0\n",
        "            or new_head[1] >= GRID_HEIGHT\n",
        "            or new_head in self.snake\n",
        "        ):\n",
        "            return False\n",
        "\n",
        "        return True\n",
        "\n",
        "    def step(self, reward_shape, method = 'random', value_function = None):\n",
        "        reward = 0\n",
        "        get = False\n",
        "        # valid_actions = [action for action in ACTIONS if self.is_valid_move(action)]\n",
        "        # action = random.choice(ACTIONS)\n",
        "        action = self.get_desired_action(method = method, value_function = value_function)\n",
        "        is_valid = self.is_valid_move(action)\n",
        "        while not is_valid:\n",
        "            #print(\"Nao e valido\")\n",
        "            action = self.get_desired_action(method = 'random', value_function = value_function)\n",
        "            reward = -1\n",
        "            is_valid = self.is_valid_move(action)\n",
        "            #return reward, True  # No reward and episode ends\n",
        "        #print(\"Action Selected\", action)\n",
        "        if self.snake[0] == self.food:\n",
        "            self.food = self.initialize_food()\n",
        "            self.snake.append((0, 0))\n",
        "            reward = reward_shape[1]\n",
        "            get = True\n",
        "        else:\n",
        "            reward = -1\n",
        "        #elif action != self.get_desired_action():\n",
        "        #    reward = reward_shape[0]\n",
        "        new_head = (self.snake[0][0] + action[0], self.snake[0][1] + action[1])\n",
        "\n",
        "        self.snake.insert(0, new_head)\n",
        "        self.snake.pop()\n",
        "\n",
        "        return reward, True, get\n",
        "\n",
        "    def render(self, render = True):\n",
        "\n",
        "        if not render:\n",
        "          return None\n",
        "\n",
        "        self.screen.fill(WHITE)\n",
        "        for i, segment in enumerate(self.snake):\n",
        "            if i == 0:\n",
        "                pygame.draw.rect(self.screen, BLUE, (segment[0] * GRID_SIZE, segment[1] * GRID_SIZE, GRID_SIZE, GRID_SIZE))\n",
        "            else:\n",
        "                pygame.draw.rect(self.screen, GREEN, (segment[0] * GRID_SIZE, segment[1] * GRID_SIZE, GRID_SIZE, GRID_SIZE))\n",
        "        pygame.draw.rect(self.screen, RED, (self.food[0] * GRID_SIZE, self.food[1] * GRID_SIZE, GRID_SIZE, GRID_SIZE))\n",
        "        pygame.display.update()\n",
        "\n",
        "        #to run in Colab:\n",
        "        #convert image so it can be displayed in OpenCV\n",
        "        view = pygame.surfarray.array3d(self.screen)\n",
        "        img_bgr = cv2.cvtColor(view, cv2.COLOR_RGB2BGR)\n",
        "        cv2_imshow(img_bgr)\n",
        "        time.sleep(self.delay_time)\n",
        "        output.clear()\n",
        "\n",
        "    # Optmization that make snake go only to the direction of the food, instead of choosing a random direction\n",
        "    def get_desired_action(self, method = 'random', value_function = None):\n",
        "        head = self.snake[0]\n",
        "        food = self.food\n",
        "        delta_x = food[0] - head[0]\n",
        "        delta_y = food[1] - head[1]\n",
        "\n",
        "\n",
        "        if method == 'best':\n",
        "          if delta_x > 0:\n",
        "              return (1, 0)  # Right\n",
        "          elif delta_x < 0:\n",
        "              return (-1, 0)  # Left\n",
        "          elif delta_y > 0:\n",
        "              return (0, 1)  # Down\n",
        "          elif delta_y < 0:\n",
        "              return (0, -1)  # Up\n",
        "          else:\n",
        "              return (0, 0)  # No movement\n",
        "\n",
        "\n",
        "        #choose a random action\n",
        "        if method  == 'random':\n",
        "          possible_actions = [(1,0), (-1,0), (0,1),(0,-1)]\n",
        "          idx = np.random.choice([0,1,2,3])\n",
        "          return possible_actions[idx]\n",
        "\n",
        "        if method == 'value':\n",
        "\n",
        "          state = self.get_state()\n",
        "          possible_actions = [(1,0), (-1,0), (0,1),(0,-1)]\n",
        "          max_value = -np.inf\n",
        "          for a in possible_actions:\n",
        "\n",
        "            future_state = (state[0] + a[0], state[1] +a[1])\n",
        "            if self.is_valid_move(a):\n",
        "              #print(future_state,state,  self.snake, self.food, value_function[str(future_state)])\n",
        "              if value_function[str(future_state)] >= max_value:\n",
        "                f = future_state\n",
        "                v = value_function[str(future_state)]\n",
        "                max_value = value_function[str(future_state)]\n",
        "                action = a\n",
        "\n",
        "          #print('--', v, f, action)\n",
        "          return action\n",
        "\n"
      ],
      "metadata": {
        "id": "7wL67pbZSKFd"
      },
      "execution_count": 89,
      "outputs": []
    },
    {
      "cell_type": "code",
      "source": [
        "class MonteCarloAgent():\n",
        "    def __init__(self, game, gamma = 0.9):\n",
        "        self.game = game\n",
        "        self.V = {}\n",
        "        self.gamma = gamma\n",
        "        self.reward_shape = [-1, 99]\n",
        "        self.value_function = self.create_value_function()\n",
        "        self.states_count = self.create_states_count()\n",
        "\n",
        "    def get_state(self):\n",
        "      s = self.game.snake[0]\n",
        "      f = self.game.food\n",
        "\n",
        "      state_x = s[0] - f[0]\n",
        "      state_y = s[1] - f[1]\n",
        "\n",
        "      return (state_x, state_y)\n",
        "\n",
        "\n",
        "    def state_to_str(self, state):\n",
        "        return str(state)\n",
        "\n",
        "    def create_value_function(self):\n",
        "      global GRID_HEIGHT\n",
        "      global GRID_WIDTH\n",
        "      value = {}\n",
        "\n",
        "      for x in range(-GRID_WIDTH+1, GRID_WIDTH):\n",
        "        for y in range(-GRID_HEIGHT+1, GRID_HEIGHT):\n",
        "\n",
        "          value[f'({x}, {y})'] = 0\n",
        "\n",
        "      value[str((0,0))] = np.inf #pois esse é estado final e o que mais vale\n",
        "      return value\n",
        "\n",
        "    def create_states_count(self):\n",
        "      global GRID_HEIGHT\n",
        "      global GRID_WIDTH\n",
        "      N = {}\n",
        "\n",
        "      for x in range(-GRID_WIDTH+1, GRID_WIDTH):\n",
        "        for y in range(-GRID_HEIGHT+1, GRID_HEIGHT):\n",
        "\n",
        "          N[f'({x}, {y})'] = 0\n",
        "\n",
        "      return N\n",
        "\n",
        "\n",
        "    def run_episode(self, method = 'random', alpha= 0.1, gamma = 0.9, test_only = False, render = False):\n",
        "\n",
        "        episode_states = []\n",
        "        episode_rewards = 0\n",
        "\n",
        "        self.game.reset()\n",
        "        get = False\n",
        "        while not get:\n",
        "            #state = self.game.snake[0]\n",
        "            state = self.get_state()\n",
        "            state_str = self.state_to_str(state)\n",
        "            reward, done, get = self.game.step(self.reward_shape, method = method,\n",
        "                                               value_function = self.value_function)\n",
        "            self.game.render(render = render)\n",
        "            episode_rewards += gamma**(len(episode_states)) * reward\n",
        "            episode_states.append(state)\n",
        "            #self.states_count[state_str] = self.states_count[state_str]+1\n",
        "            #alpha\n",
        "\n",
        "            if len(episode_states)>5000:\n",
        "              #print('Loop =( Energia acabou...')\n",
        "              break\n",
        "\n",
        "            if not done:\n",
        "                break\n",
        "\n",
        "        if not test_only:\n",
        "          v = self.value_function[str(episode_states[0])]\n",
        "          self.value_function[str(episode_states[0])] = v + alpha*(episode_rewards - v)\n",
        "\n",
        "        ep_len = len(episode_states)\n",
        "\n",
        "        return ep_len\n",
        "\n",
        "    def run_Monte_Carlo(self, num_samples = 1, alpha = 0.1):\n",
        "\n",
        "      for i in range(num_samples):\n",
        "        self.run_episode(alpha = alpha, method = 'random')\n"
      ],
      "metadata": {
        "id": "pwjg92s1SSRO"
      },
      "execution_count": 90,
      "outputs": []
    },
    {
      "cell_type": "code",
      "source": [
        "game = SnakeGame()\n",
        "game.render()\n",
        "agent = MonteCarloAgent(game)"
      ],
      "metadata": {
        "id": "QVAiK-XvbJ6C"
      },
      "execution_count": 91,
      "outputs": []
    },
    {
      "cell_type": "code",
      "source": [
        "agent.run_episode(method = 'random', render = False)"
      ],
      "metadata": {
        "colab": {
          "base_uri": "https://localhost:8080/"
        },
        "id": "8g4ieKLtbQlX",
        "outputId": "e923a8a0-be22-497e-ab8f-defacc6af2c7"
      },
      "execution_count": 92,
      "outputs": [
        {
          "output_type": "execute_result",
          "data": {
            "text/plain": [
              "175"
            ]
          },
          "metadata": {},
          "execution_count": 92
        }
      ]
    },
    {
      "cell_type": "code",
      "source": [
        "for n in [1000]:\n",
        "  game = SnakeGame()\n",
        "  game.render()\n",
        "  agent = MonteCarloAgent(game)\n",
        "\n",
        "  agent.run_Monte_Carlo(num_samples = n)\n",
        "\n",
        "  with open(f'value_function_{n}runs.pkl', 'wb') as fp:\n",
        "    pickle.dump(agent.value_function, fp)"
      ],
      "metadata": {
        "id": "VsF86IzWdfws"
      },
      "execution_count": 109,
      "outputs": []
    },
    {
      "cell_type": "code",
      "source": [
        "def test_method(method, n_iter = 1000):\n",
        "  ep_len_total = 0\n",
        "  loop = 0\n",
        "  for i in range(n_iter):\n",
        "\n",
        "    ep_len = agent.run_episode(method = method, render = False)\n",
        "    ep_len_total +=  ep_len\n",
        "\n",
        "    if ep_len>=4999:\n",
        "      loop+=1\n",
        "\n",
        "  ep_len_mean = ep_len_total/n_iter\n",
        "  prop_loop = loop/n_iter\n",
        "\n",
        "  return ep_len_mean, prop_loop"
      ],
      "metadata": {
        "id": "wi3eGqVZvCht"
      },
      "execution_count": 115,
      "outputs": []
    },
    {
      "cell_type": "code",
      "source": [
        "test_method(method = 'random')"
      ],
      "metadata": {
        "colab": {
          "base_uri": "https://localhost:8080/"
        },
        "id": "zB-7EY_L-0qF",
        "outputId": "abbfbf51-0280-44d4-e4cd-d9cff293596e"
      },
      "execution_count": 116,
      "outputs": [
        {
          "output_type": "execute_result",
          "data": {
            "text/plain": [
              "(253.83, 0.0)"
            ]
          },
          "metadata": {},
          "execution_count": 116
        }
      ]
    },
    {
      "cell_type": "code",
      "source": [
        "test_method(method = 'best')"
      ],
      "metadata": {
        "colab": {
          "base_uri": "https://localhost:8080/"
        },
        "id": "cVuvrM0RAaL6",
        "outputId": "2c194df1-760a-4a6c-a38f-e3319630d0a8"
      },
      "execution_count": 117,
      "outputs": [
        {
          "output_type": "execute_result",
          "data": {
            "text/plain": [
              "(7.757, 0.0)"
            ]
          },
          "metadata": {},
          "execution_count": 117
        }
      ]
    },
    {
      "cell_type": "code",
      "source": [
        "with open(f'/content/value_function_{1000}runs.pkl', 'rb') as fp:\n",
        "    agent.value_function = pickle.load(fp)\n",
        "\n",
        "test_method(method = 'value')"
      ],
      "metadata": {
        "colab": {
          "base_uri": "https://localhost:8080/"
        },
        "id": "PLorZtTeAccQ",
        "outputId": "c06359f4-c21d-46dc-b998-5d7e9efe6c5a"
      },
      "execution_count": 121,
      "outputs": [
        {
          "output_type": "execute_result",
          "data": {
            "text/plain": [
              "(1884.253, 0.376)"
            ]
          },
          "metadata": {},
          "execution_count": 121
        }
      ]
    },
    {
      "cell_type": "code",
      "source": [
        "fig, axs = plt.subplots(1, 3, figsize=(14, 3))\n",
        "for i, n in enumerate([1000, 10000, 100000]):\n",
        "  with open(f'/content/value_function_{n}runs.pkl', 'rb') as fp:\n",
        "    value_function = pickle.load(fp)\n",
        "\n",
        "  matrix_values = np.zeros((19, 19))\n",
        "  for k in list(agent.value_function.keys()):\n",
        "    x = int(k.split(',')[0].split('(')[1])\n",
        "    y = int(k.split(',')[1].split(')')[0])\n",
        "\n",
        "    matrix_values[x+9][y+9] = value_function[k]\n",
        "\n",
        "  sns.heatmap(matrix_values, ax = axs[i], cmap=\"crest\")\n",
        "  axs[i].set_title(f'Valor dos estados com {n} iters do MC')"
      ],
      "metadata": {
        "id": "itRa6mTxadkc",
        "colab": {
          "base_uri": "https://localhost:8080/",
          "height": 318
        },
        "outputId": "16895b9b-4de6-484d-f406-85d7388a9ea4"
      },
      "execution_count": 114,
      "outputs": [
        {
          "output_type": "display_data",
          "data": {
            "text/plain": [
              "<Figure size 1400x300 with 6 Axes>"
            ],
            "image/png": "[encoded data removed]"
          },
          "metadata": {}
        }
      ]
    },
    {
      "cell_type": "code",
      "source": [],
      "metadata": {
        "id": "NmTkWQsj2-zP"
      },
      "execution_count": 102,
      "outputs": []
    }
  ]
}